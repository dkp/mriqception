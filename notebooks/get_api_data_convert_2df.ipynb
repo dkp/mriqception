{
 "cells": [
  {
   "cell_type": "code",
   "execution_count": null,
   "metadata": {},
   "outputs": [],
   "source": [
    "import pandas as pd\n",
    "from json import load\n",
    "import urllib.request, json \n",
    "from pandas import json_normalize\n",
    "import seaborn as sns\n",
    "import pylab as plt\n",
    "import multiprocessing as mp\n",
    "import numpy as np\n",
    "%matplotlib inline"
   ]
  },
  {
   "cell_type": "code",
   "execution_count": null,
   "metadata": {},
   "outputs": [],
   "source": [
    "def get_iqms(modality, versions=None, software='mriqc'):\n",
    "    \"\"\"\n",
    "    Grab all iqms for the given modality and the list of versions\n",
    "    \"\"\"\n",
    "    url_root = 'https://mriqc.nimh.nih.gov/api/v1/{modality}?{query}'\n",
    "    page = 1\n",
    "    dfs = []\n",
    "    \n",
    "    if versions is None:\n",
    "        versions = ['*']\n",
    "\n",
    "    for version in versions:\n",
    "        while True:\n",
    "            query = []\n",
    "            \n",
    "            if software is not None:\n",
    "                query.append('\"provenance.software\":\"%s\"' % software)\n",
    "            \n",
    "            if version != '*':\n",
    "                query.append('\"provenance.version\":\"%s\"' % version)\n",
    "                \n",
    "            page_url = url_root.format(\n",
    "                modality=modality,\n",
    "                query='where={%s}&page=%d' % (','.join(query), page)\n",
    "            )\n",
    "            with urllib.request.urlopen(page_url) as url:\n",
    "                data = json.loads(url.read().decode())\n",
    "                dfs.append(json_normalize(data['_items']))\n",
    "                if 'next' not in data['_links'].keys():\n",
    "                    break\n",
    "                else:\n",
    "                    page += 1\n",
    "\n",
    "    # Compose a pandas dataframe\n",
    "    return pd.concat(dfs, ignore_index=True)"
   ]
  },
  {
   "cell_type": "code",
   "execution_count": null,
   "metadata": {},
   "outputs": [],
   "source": [
    "df_bold = get_iqms('bold')\n"
   ]
  },
  {
   "cell_type": "code",
   "execution_count": null,
   "metadata": {},
   "outputs": [],
   "source": [
    "df_bold.head()"
   ]
  }
 ],
 "metadata": {
  "kernelspec": {
   "name": "python3",
   "display_name": "Python 3.9.5 64-bit ('mriqception': conda)"
  },
  "language_info": {
   "codemirror_mode": {
    "name": "ipython",
    "version": 3
   },
   "file_extension": ".py",
   "mimetype": "text/x-python",
   "name": "python",
   "nbconvert_exporter": "python",
   "pygments_lexer": "ipython3",
   "version": "3.9.5"
  },
  "interpreter": {
   "hash": "3af2274776fa5c04a0c544e40a8bbc52b3e2e17ff2027bbd592b79cac4838f42"
  }
 },
 "nbformat": 4,
 "nbformat_minor": 2
}