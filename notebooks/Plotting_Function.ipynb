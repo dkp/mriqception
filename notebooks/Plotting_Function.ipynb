{
  "cells": [
    {
      "cell_type": "code",
      "source": [
        "import pandas as pd\n",
        "import plotly.graph_objects as go"
      ],
      "outputs": [],
      "execution_count": null,
      "metadata": {}
    },
    {
      "cell_type": "code",
      "source": [
        "data = pd.read_csv(\"/Volumes/Main/Working/mriqception_test/mriqception/test_data/group2_bold.tsv\", sep=\"\\t\")\n",
        "variables=data.columns"
      ],
      "outputs": [],
      "execution_count": null,
      "metadata": {}
    },
    {
      "cell_type": "code",
      "source": [
        "#variables = [\"var1\", \"var2\", \"var3\"]\n",
        "\n",
        "#import dataframe\n",
        "data = pd.read_csv(\"/Volumes/Main/Working/mriqception_test/mriqception/test_data/group2_bold.tsv\", sep=\"\\t\")\n",
        "#create an index/array of column names\n",
        "variables=data.columns\n",
        "\n",
        "#set and remove the names of variables we are not going to graph\n",
        "#vars_nograph=[\"bids_name\"]\n",
        "#vars_graph=variables.drop(vars_nograph)\n",
        "\n",
        "#create dictionary of descriptions of variables\n",
        "descriptions = {\n",
        "  \"cjv\":\"Coefficient of joint variation between white matter and gray matter.\\nHigher values indicate more head motion and/or intensity non-uniformity artifacts.\",\n",
        "  \"cnr\": \"Contrast-to-noise ratio, reflecting separation between GM & WM.\\nHigher values indicate higher quality.\",\n",
        "  \"snr\":\"Signal-to-noise ratio within the tissue mask.\\nHigher values indicate higher quality.\",\n",
        "  \"snr_dietrich\": \"Dietrich et al. (2007)'s signal-to-noise ratio.\\nHigher values indicate higher quality.\",\n",
        "  \"art_qi2\": \"A quality index accounting for effects of both clustered and subtle artifacts in the air background.\\nHigher values indicate lower quality.\",\n",
        "  \"art_qi1\":\"The proportion of voxels outside the brain with artifacts to the total number of voxels outside the brain.\\nHigher values indicate lower quality.\",\n",
        "  \"wm2max\":\"Captures skewed distributions within the WM mask, caused by fat and vascular-related hyperintensities.\\nIdeal values fall within the interval [0.6, 0.8].\",\n",
        "  \"fwhm_\":\"Image blurriness (full-width half-maximum).\\nHigher values indicate a blurrier image.\",\n",
        "  \"volume_fraction\":\"Summary statistics for the intra-cranial volume fractions of CSF, GM, and WM.\\nBe aware of potential outliers.\",\n",
        "  \"rpve\":\"Residual partial volume error.\\nHigher values indicate lower quality.\",\n",
        "  \"overlap_\":\"How well the image tissue probability maps overlap with those from the MNI ICBM 2009 template.\\nHigher values indicate better spatial normalization.\",\n",
        "  \"efc\":\"Shannon entropy criterion.\\nHigher values indicate more ghosting and/or head motion blurring. \",\n",
        "  \"fber\":\"The variance of voxels inside the brain divided by the variance of voxels outside the brain.\\nHigher values indicate higher quality.\",\n",
        "  \"inu_\":\"Intensity non-uniformity (bias field) summary statistics.\\nValues closer to 1 indicate higher quality; further from zero indicate greater RF field inhomogeneity.\",\n",
        "  \"summary_stats\":\"Summary statistics for average intensities in CSF, GM, and WM.\",\n",
        "  \"dvars\":\"The average change in mean intensity between each pair of fMRI volumes in a series.\\nHigher values indicate more dramatic changes (e.g., due to motion or spiking).\",\n",
        "  \"gcor\":\"Average correlation of all pairs of voxel time series inside of the brain. Illustrates differences between data due to motion/physiological noise/imaging artifacts.\\nValues closer to zero are better.\",\n",
        "  \"tsnr\":\"Temporal signal-to-noise ratio taking into account mean signal over time.\\nHigher values indicate higher quality.\",\n",
        "  \"fd_mean\":\"A measure of subject head motion, which compares the motion between the current and previous volumes.\\nHigher values indicate lower quality.\",\n",
        "  \"fd_num\":\"Number of timepoints with framewise displacement >0.2mm.\\nHigher values indicate lower quality.\",\n",
        "  \"fd_perc\":\"Percent of timepoints with framewise displacement >0.2mm.\\nHigher values indicate lower quality.\",\n",
        "  \"gsr\":\"Ghost-to-signal ratio along the x or y encoding axes.\\nHigher values indicate lower quality.\",\n",
        "  \"aor\":\"Mean fraction of outliers per fMRI volume, from AFNI's 3dToutcount.\\nHigher values indicate lower quality.\",\n",
        "  \"aqi\":\"Mean quality index, from AFNI's 3dTqual.\\nValues close to 0 indicate higher quality.\",\n",
        "  \"dummy\":\"Number of volumes in the beginning of the fMRI timeseries identified as non-steady state.\"\n",
        "}\n",
        "#print(descriptions)\n",
        "\n",
        "#vars_graph"
      ],
      "outputs": [],
      "execution_count": null,
      "metadata": {}
    },
    {
      "cell_type": "code",
      "source": [
        "def my_function(df, variables, dictionary):\n",
        "    \n",
        "    # change the file to long format\n",
        "    df_long = pd.melt(df,id_vars='bids_name',var_name='var',value_name='values')\n",
        "    \n",
        "    for var_name in variables:\n",
        "        \n",
        "        # create a split violin plot for a single variable\n",
        "        fig = go.Figure()\n",
        "        \n",
        "        # the 'my data' variable is a subset of the original df for plotting reasons\n",
        "        # replace it with the actual user data\n",
        "        user_data = df_long[df_long['var'] == var_name][20:40]\n",
        "        \n",
        "        fig.add_trace(go.Violin(x=user_data[['var']][user_data['var']==var_name]['var'],\n",
        "                        y=user_data[['values']][user_data['var']==var_name]['values'],\n",
        "                        legendgroup='user data', scalegroup='user data', name='user data',\n",
        "                        side='negative',\n",
        "                        points='all',\n",
        "                        pointpos=-0.5, # where to position points\n",
        "                        jitter=0.1,\n",
        "                        line_color='lightseagreen',\n",
        "                        text=user_data['bids_name'])\n",
        "             )\n",
        "        fig.add_trace(go.Violin(x=df_long[['var']][df_long['var']==var_name]['var'],\n",
        "                        y=df_long[['values']][df_long['var']==var_name]['values'],\n",
        "                        legendgroup='api', scalegroup='api', name='api',\n",
        "                        side='positive',\n",
        "                        line_color='mediumpurple',\n",
        "                        text=user_data['bids_name'])\n",
        "             )\n",
        "        # update characteristics shared by all traces\n",
        "        fig.update_traces(meanline_visible=True,\n",
        "                  box_visible=True) #scale violin plot area with total count\n",
        "        fig.show()\n",
        "\n",
        "        #print description of figure\n",
        "        print(dictionary.get(var_name))"
      ],
      "outputs": [],
      "execution_count": null,
      "metadata": {}
    },
    {
      "cell_type": "code",
      "source": [
        "my_function(data,variables[1:5], descriptions)"
      ],
      "outputs": [],
      "execution_count": null,
      "metadata": {}
    },
    {
      "cell_type": "code",
      "execution_count": null,
      "metadata": {},
      "outputs": [],
      "source": []
    }
  ],
  "metadata": {
    "kernel_info": {
      "name": "python3"
    },
    "kernelspec": {
      "name": "python3",
      "display_name": "Python 3.9.5 64-bit ('mriqception': conda)"
    },
    "language_info": {
      "name": "python",
      "version": "3.9.5",
      "mimetype": "text/x-python",
      "codemirror_mode": {
        "name": "ipython",
        "version": 3
      },
      "pygments_lexer": "ipython3",
      "nbconvert_exporter": "python",
      "file_extension": ".py"
    },
    "nteract": {
      "version": "0.14.3"
    },
    "interpreter": {
      "hash": "3af2274776fa5c04a0c544e40a8bbc52b3e2e17ff2027bbd592b79cac4838f42"
    }
  },
  "nbformat": 4,
  "nbformat_minor": 2
}