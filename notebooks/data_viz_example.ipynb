{
 "cells": [
  {
   "cell_type": "code",
   "execution_count": null,
   "metadata": {},
   "outputs": [],
   "source": [
    "import os\n",
    "import pandas as pd\n",
    "import csv\n",
    "import seaborn as sns\n",
    "import plotly.express as px # this is a fast way to do it\n",
    "import plotly.graph_objects as go"
   ]
  },
  {
   "cell_type": "code",
   "execution_count": null,
   "metadata": {},
   "outputs": [],
   "source": [
    "data = pd.read_csv('/Volumes/Main/Working/mriqception_test/mriqception/test_data/x_abide.csv')\n",
    "os.getcwd()"
   ]
  },
  {
   "cell_type": "code",
   "execution_count": null,
   "metadata": {},
   "outputs": [],
   "source": [
    "data.head()\n",
    "data.columns"
   ]
  },
  {
   "cell_type": "code",
   "execution_count": null,
   "metadata": {},
   "outputs": [],
   "source": [
    "# making the plot with express figures (less flexible)\n",
    "fig_express = px.violin(data, y='cjv', box=True, points='all')\n",
    "fig_express.show()"
   ]
  },
  {
   "cell_type": "code",
   "execution_count": null,
   "metadata": {},
   "outputs": [],
   "source": [
    "# let's try making the graph object version\n",
    "fig_go = go.Figure(go.Violin(y=data['cjv'], box_visible=True, line_color='black',\n",
    "                               meanline_visible=True, fillcolor='lightseagreen', opacity=0.6,\n",
    "                               x0='cjv', pointpos=-.9))\n",
    "fig_go.show()"
   ]
  },
  {
   "cell_type": "code",
   "execution_count": null,
   "metadata": {},
   "outputs": [],
   "source": [
    "help(px.violin)"
   ]
  },
  {
   "cell_type": "code",
   "execution_count": null,
   "metadata": {},
   "outputs": [],
   "source": [
    "# read an example data file\n",
    "df = pd.read_csv(\"/Volumes/Main/Working/mriqception_test/mriqception/test_data/group2_bold.tsv\", sep=\"\\t\")\n",
    "df.head()"
   ]
  },
  {
   "cell_type": "code",
   "execution_count": null,
   "metadata": {},
   "outputs": [],
   "source": [
    "# change the file to long format\n",
    "df_long = pd.melt(df,id_vars='bids_name',var_name='var',value_name='values')\n",
    "df_long.head()"
   ]
  },
  {
   "cell_type": "code",
   "execution_count": null,
   "metadata": {},
   "outputs": [],
   "source": [
    "# create a split violin plot for a single variable\n",
    "fig = go.Figure()\n",
    "var_name = 'fd_mean' # the variable you want to plot\n",
    "# the 'my data' variable is a subset of the original df for plotting reasons\n",
    "# replace it with the actual user data\n",
    "user_data = df_long[df_long['var'] == var_name][20:40]\n",
    "fig.add_trace(go.Violin(x=user_data[['var']][user_data['var']==var_name]['var'],\n",
    "                        y=user_data[['values']][user_data['var']==var_name]['values'],\n",
    "                        legendgroup='user data', scalegroup='user data', name='user data',\n",
    "                        side='negative',\n",
    "                        points='all',\n",
    "                        pointpos=-0.5, # where to position points\n",
    "                        jitter=0.1,\n",
    "                        line_color='lightseagreen')\n",
    "             )\n",
    "fig.add_trace(go.Violin(x=df_long[['var']][df_long['var']==var_name]['var'],\n",
    "                        y=df_long[['values']][df_long['var']==var_name]['values'],\n",
    "                        legendgroup='api', scalegroup='api', name='api',\n",
    "                        side='positive',\n",
    "                        line_color='mediumpurple')\n",
    "             )\n",
    "# update characteristics shared by all traces\n",
    "fig.update_traces(meanline_visible=True,\n",
    "                  box_visible=True) #scale violin plot area with total count\n",
    "fig.show()"
   ]
  }
 ],
 "metadata": {
  "kernelspec": {
   "name": "python3",
   "display_name": "Python 3.9.5 64-bit ('mriqception': conda)"
  },
  "language_info": {
   "codemirror_mode": {
    "name": "ipython",
    "version": 3
   },
   "file_extension": ".py",
   "mimetype": "text/x-python",
   "name": "python",
   "nbconvert_exporter": "python",
   "pygments_lexer": "ipython3",
   "version": "3.9.5"
  },
  "interpreter": {
   "hash": "3af2274776fa5c04a0c544e40a8bbc52b3e2e17ff2027bbd592b79cac4838f42"
  }
 },
 "nbformat": 4,
 "nbformat_minor": 2
}